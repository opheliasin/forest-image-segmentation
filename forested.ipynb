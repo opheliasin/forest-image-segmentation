{
 "cells": [
  {
   "cell_type": "code",
   "execution_count": 2,
   "metadata": {},
   "outputs": [
    {
     "name": "stdout",
     "output_type": "stream",
     "text": [
      "Created transparent image: more_forest_output/Peru_1067_2017-07-04T15_00_39Z_0010_cropped_7.png\n",
      "Created transparent image: more_forest_output/Peru_1067_2017-07-19T15_00_54Z_0003_cropped_7.png\n",
      "Created transparent image: more_forest_output/Peru_1067_2017-07-24T15_00_05Z_0011_cropped_4.png\n",
      "Created transparent image: more_forest_output/Peru_1067_2017-07-04T15_00_39Z_0019_cropped_6.png\n",
      "Created transparent image: more_forest_output/Peru_1067_2017-07-24T15_00_05Z_0018_cropped_5.png\n",
      "Created transparent image: more_forest_output/Peru_1067_2017-08-08T15_01_58Z_0020_cropped_3.png\n",
      "Created transparent image: more_forest_output/Peru_1067_2017-07-24T15_00_05Z_0016_cropped_4.png\n",
      "Created transparent image: more_forest_output/Peru_2278_2017-07-24T15_00_05Z_0005_cropped_9.png\n",
      "Created transparent image: more_forest_output/Peru_1067_2017-06-04T15_06_19Z_0019_cropped_1.png\n",
      "Created transparent image: more_forest_output/Peru_2278_2017-07-04T15_00_39Z_0002_cropped_6.png\n",
      "Created transparent image: more_forest_output/Peru_2278_2017-07-19T15_00_54Z_0005_cropped_7.png\n",
      "Created transparent image: more_forest_output/Peru_1067_2017-07-19T15_00_54Z_0005_cropped_7.png\n",
      "Created transparent image: more_forest_output/Peru_1067_2017-08-13T14_59_12Z_0010_cropped_3.png\n",
      "Created transparent image: more_forest_output/Peru_1067_2017-07-04T15_00_39Z_0021_cropped_2.png\n",
      "Created transparent image: more_forest_output/Peru_2278_2018-07-19T15_00_16Z_0003_cropped_9.png\n",
      "Created transparent image: more_forest_output/Peru_1360_2018-07-15T15_17_05Z_0008_cropped_6.png\n",
      "Created transparent image: more_forest_output/Peru_1067_2017-06-04T15_06_19Z_0011_cropped_7.png\n",
      "Created transparent image: more_forest_output/Peru_1067_2017-06-04T15_06_19Z_0019_cropped_7.png\n",
      "Created transparent image: more_forest_output/Peru_2278_2017-07-11T14_47_35Z_0002_cropped_1.png\n",
      "Created transparent image: more_forest_output/Peru_1067_2017-07-21T14_56_23Z_0010_cropped_6.png\n",
      "Created transparent image: more_forest_output/Peru_2278_2017-07-24T15_00_05Z_0004_cropped_3.png\n",
      "Created transparent image: more_forest_output/Peru_1067_2017-07-24T15_00_05Z_0012_cropped_9.png\n",
      "Created transparent image: more_forest_output/Peru_1067_2017-07-19T15_00_54Z_0003_cropped_0.png\n",
      "Created transparent image: more_forest_output/Peru_1067_2017-07-26T14_56_22Z_0005_cropped_0.png\n",
      "Created transparent image: more_forest_output/Peru_1067_2017-07-24T15_00_05Z_0012_cropped_5.png\n",
      "Created transparent image: more_forest_output/Peru_1067_2017-07-24T15_00_05Z_0008_cropped_9.png\n",
      "Created transparent image: more_forest_output/Peru_1067_2017-07-24T15_00_05Z_0003_cropped_3.png\n",
      "Created transparent image: more_forest_output/Peru_1067_2017-06-04T15_06_19Z_0019_cropped_5.png\n",
      "Created transparent image: more_forest_output/Peru_1067_2017-07-24T15_00_05Z_0012_cropped_6.png\n",
      "Created transparent image: more_forest_output/Peru_1067_2017-07-24T15_00_05Z_0002_cropped_1.png\n",
      "Created transparent image: more_forest_output/Peru_2278_2017-07-19T15_00_54Z_0006_cropped_4.png\n",
      "Created transparent image: more_forest_output/Peru_1067_2017-07-21T14_56_23Z_0005_cropped_4.png\n",
      "Created transparent image: more_forest_output/Peru_2278_2018-08-23T15_02_45Z_0003_cropped_2.png\n",
      "Created transparent image: more_forest_output/Peru_2278_2017-08-08T15_01_58Z_0004_cropped_2.png\n",
      "Created transparent image: more_forest_output/Peru_2278_2018-08-18T15_02_09Z_0003_cropped_7.png\n",
      "Created transparent image: more_forest_output/Peru_1360_2017-07-30T15_19_22Z_0024_cropped_7.png\n",
      "Created transparent image: more_forest_output/Peru_2278_2018-08-28T14_58_54Z_0002_cropped_7.png\n",
      "Created transparent image: more_forest_output/Peru_985_2018-07-15T15_17_05Z_0016_cropped_2.png\n",
      "Created transparent image: more_forest_output/Peru_2278_2017-08-25T14_47_26Z_0001_cropped_9.png\n",
      "Created transparent image: more_forest_output/Peru_1067_2017-07-24T15_00_05Z_0020_cropped_2.png\n",
      "Created transparent image: more_forest_output/Peru_985_2018-07-15T15_17_05Z_0003_cropped_9.png\n",
      "Created transparent image: more_forest_output/Peru_2278_2018-07-19T15_00_16Z_0004_cropped_6.png\n",
      "Created transparent image: more_forest_output/Peru_2278_2018-06-19T15_02_21Z_0005_cropped_0.png\n",
      "Created transparent image: more_forest_output/Peru_1067_2017-07-04T15_00_39Z_0005_cropped_5.png\n",
      "Created transparent image: more_forest_output/Peru_1067_2017-07-21T14_56_23Z_0006_cropped_4.png\n",
      "Created transparent image: more_forest_output/Peru_1067_2017-06-04T15_06_19Z_0021_cropped_6.png\n",
      "Created transparent image: more_forest_output/Peru_1067_2017-07-21T14_56_23Z_0009_cropped_8.png\n",
      "Created transparent image: more_forest_output/Peru_1067_2017-07-04T15_00_39Z_0017_cropped_5.png\n",
      "Created transparent image: more_forest_output/Peru_1067_2017-06-04T15_06_19Z_0010_cropped_3.png\n",
      "Created transparent image: more_forest_output/Peru_944_2017-07-23T15_29_15Z_0010_cropped_3.png\n",
      "Created transparent image: more_forest_output/Peru_1067_2017-07-26T14_56_22Z_0006_cropped_2.png\n",
      "Created transparent image: more_forest_output/Peru_1067_2017-08-23T15_06_18Z_0009_cropped_5.png\n"
     ]
    }
   ],
   "source": [
    "#getting transparent masks\n",
    "import os\n",
    "from PIL import Image\n",
    "\n",
    "def create_transparent_images(input_folder, output_folder):\n",
    "    os.makedirs(output_folder, exist_ok=True)\n",
    "\n",
    "    for filename in os.listdir(input_folder):\n",
    "        if filename.lower().endswith('.tiff'):\n",
    "            output_filename = os.path.splitext(filename)[0] + \".png\"\n",
    "            output_path = os.path.join(output_folder, output_filename)\n",
    "\n",
    "            transparent_image = Image.new(\"RGBA\", (1, 1), (255, 255, 255, 0))\n",
    "            transparent_image.save(output_path)\n",
    "            print(f\"Created transparent image: {output_path}\")\n",
    "\n",
    "input_folder = \"more_forest\"\n",
    "output_folder = \"more_forest_output\"\n",
    "create_transparent_images(input_folder, output_folder)"
   ]
  }
 ],
 "metadata": {
  "kernelspec": {
   "display_name": "Python 3",
   "language": "python",
   "name": "python3"
  },
  "language_info": {
   "codemirror_mode": {
    "name": "ipython",
    "version": 3
   },
   "file_extension": ".py",
   "mimetype": "text/x-python",
   "name": "python",
   "nbconvert_exporter": "python",
   "pygments_lexer": "ipython3",
   "version": "3.11.9"
  }
 },
 "nbformat": 4,
 "nbformat_minor": 2
}
